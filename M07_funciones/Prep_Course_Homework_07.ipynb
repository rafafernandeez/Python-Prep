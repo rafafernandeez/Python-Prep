{
 "cells": [
  {
   "attachments": {},
   "cell_type": "markdown",
   "metadata": {},
   "source": [
    "## Funciones"
   ]
  },
  {
   "attachments": {},
   "cell_type": "markdown",
   "metadata": {},
   "source": [
    "1) Crear una función que reciba un número como parámetro y devuelva True si es primo y False si no lo es"
   ]
  },
  {
   "cell_type": "code",
   "execution_count": 19,
   "metadata": {},
   "outputs": [
    {
     "data": {
      "text/plain": [
       "False"
      ]
     },
     "execution_count": 19,
     "metadata": {},
     "output_type": "execute_result"
    }
   ],
   "source": [
    "def es_primo (numero):\n",
    "    if numero < 2:\n",
    "        return False\n",
    "    else:\n",
    "        i = 2\n",
    "        while i < numero:\n",
    "            if numero % i == 0:\n",
    "                return False\n",
    "            else:\n",
    "                i += 1\n",
    "        return True\n",
    "es_primo(1)"
   ]
  },
  {
   "attachments": {},
   "cell_type": "markdown",
   "metadata": {},
   "source": [
    "2) Utilizando la función del punto 1, realizar otra función que reciba de parámetro una lista de números y devuelva sólo aquellos que son primos en otra lista"
   ]
  },
  {
   "cell_type": "code",
   "execution_count": 16,
   "metadata": {},
   "outputs": [
    {
     "data": {
      "text/plain": [
       "[2, 3, 5, 7]"
      ]
     },
     "execution_count": 16,
     "metadata": {},
     "output_type": "execute_result"
    }
   ],
   "source": [
    "def lista_de_primos (lista):\n",
    "    lista_nueva = []\n",
    "    for i in lista:\n",
    "        if es_primo(i):\n",
    "            lista_nueva.append(i)\n",
    "\n",
    "    return lista_nueva\n",
    "lista_de_primos([1,2,3,4,5,6,7,8,9,0])"
   ]
  },
  {
   "attachments": {},
   "cell_type": "markdown",
   "metadata": {},
   "source": [
    "3) Crear una función que al recibir una lista de números, devuelva el que más se repite y cuántas veces lo hace. Si hay más de un \"más repetido\", que devuelva cualquiera"
   ]
  },
  {
   "cell_type": "code",
   "execution_count": 52,
   "metadata": {},
   "outputs": [
    {
     "name": "stdout",
     "output_type": "stream",
     "text": [
      "El 4  es el más repetido con 8 apariciones\n"
     ]
    }
   ],
   "source": [
    "def el_mas_repetido (lista):\n",
    "    dict_repetidos = dict()\n",
    "    for i in lista:\n",
    "        dict_repetidos[i] = lista.count(i) \n",
    "    lista_repetidos = list(dict_repetidos.items()) \n",
    "    valores = list(dict_repetidos.values()) # Genero una lista con tuplas clave/valor\n",
    "    valores.sort(reverse=True)              # Encuentro cual es el valor mas grande\n",
    "    # para saber que valores esta tomando cada variable\n",
    "    # print(valores)  \n",
    "    # print(lista_repetidos)\n",
    "    # print(dict_repetidos)\n",
    "    for x,y in lista_repetidos:             # Separo cada par clave/valor\n",
    "        if y == valores[0]:                 # Comparo si el valor es el mas grande\n",
    "            print('El',x,' es el más repetido con',y,'apariciones')\n",
    "            \n",
    "el_mas_repetido([1,4,6,8,4,2,4,6,7,4,4,3,1,3,4,6,8,6,4,3,2,4,5,7])"
   ]
  },
  {
   "attachments": {},
   "cell_type": "markdown",
   "metadata": {},
   "source": [
    "4) Crear una función que convierta entre grados Celsius, Farenheit y Kelvin<br>\n",
    "Fórmula 1\t: (°C × 9/5) + 32 = °F<br>\n",
    "Fórmula 2\t: °C + 273.15 = °K<br>\n",
    "Debe recibir 3 parámetros: el valor, la medida de orígen y la medida de destino\n"
   ]
  },
  {
   "cell_type": "code",
   "execution_count": 88,
   "metadata": {},
   "outputs": [
    {
     "name": "stdout",
     "output_type": "stream",
     "text": [
      "-402.07\n"
     ]
    }
   ],
   "source": [
    "def convercion (grados,ori,des):\n",
    "    origen = ori.upper()\n",
    "    destino = des.upper()\n",
    "    if origen == 'F' and destino == 'C':\n",
    "        return (grados - 32) * (5 / 9)\n",
    "\n",
    "    elif origen == 'C' and destino == 'K':\n",
    "        return grados + 273.15\n",
    "\n",
    "    elif origen == 'C' and destino == 'F':\n",
    "        return (grados * 9/5) + 32\n",
    "\n",
    "    elif origen == 'K' and destino == 'C':\n",
    "        return grados - 273.15\n",
    "\n",
    "    elif origen == 'F' and destino == 'K':\n",
    "        celcius = convercion(grados,\"F\",\"C\")\n",
    "        return convercion(celcius,\"C\",\"K\")\n",
    "    \n",
    "    elif origen == 'K' and destino == 'F':\n",
    "        celcius = convercion(grados,\"K\",\"C\")\n",
    "        return convercion(celcius,\"C\",\"F\")\n",
    "\n",
    "    else:\n",
    "        print(\"Unidad de grados mal ingresada, utilizar: (F o f), (C O c), (K o k)\")\n",
    "    \n",
    "#convercion(32,'f','k')\n",
    "print(convercion(32,'k','f'))"
   ]
  },
  {
   "attachments": {},
   "cell_type": "markdown",
   "metadata": {},
   "source": [
    "5) Iterando una lista con los tres valores posibles de temperatura que recibe la función del punto 5, hacer un print para cada combinación de los mismos:"
   ]
  },
  {
   "cell_type": "code",
   "execution_count": 90,
   "metadata": {},
   "outputs": [
    {
     "name": "stdout",
     "output_type": "stream",
     "text": [
      "73.4\n",
      "296.15\n",
      "-418.27 \n",
      "\n",
      "852.8\n",
      "729.15\n",
      "361.13 \n",
      "\n",
      "80.6\n",
      "300.15\n",
      "-411.07 \n",
      "\n"
     ]
    }
   ],
   "source": [
    "for i in [23,456,27]:\n",
    "    print(convercion(int(i),'C','F'))\n",
    "    print(convercion(int(i),'c','k'))\n",
    "    print(convercion(int(i),'k','f'), \"\\n\")\n",
    "\n",
    "\n"
   ]
  },
  {
   "attachments": {},
   "cell_type": "markdown",
   "metadata": {},
   "source": [
    "6) Armar una función que devuelva el factorial de un número. Tener en cuenta que el usuario puede equivocarse y enviar de parámetro un número no entero o negativo"
   ]
  },
  {
   "cell_type": "code",
   "execution_count": 4,
   "metadata": {},
   "outputs": [],
   "source": [
    "def factorial (numero):\n",
    "    if type(numero) == int and  numero > 0:\n",
    "        return numero * factorial(numero-1)\n",
    "    elif numero == 0:\n",
    "        return 1\n",
    "    else:\n",
    "        print(\"Valor no valido para calcular factorial\")"
   ]
  },
  {
   "cell_type": "code",
   "execution_count": 7,
   "metadata": {},
   "outputs": [
    {
     "name": "stdout",
     "output_type": "stream",
     "text": [
      "Valor no valido para calcular factorial\n"
     ]
    }
   ],
   "source": [
    "factorial(-1)"
   ]
  }
 ],
 "metadata": {
  "interpreter": {
   "hash": "c85384e4cb51c8b72350f3a8712cc8351fdc3955e32a27f9b60c6242ab125f01"
  },
  "kernelspec": {
   "display_name": "Python 3 (ipykernel)",
   "language": "python",
   "name": "python3"
  },
  "language_info": {
   "codemirror_mode": {
    "name": "ipython",
    "version": 3
   },
   "file_extension": ".py",
   "mimetype": "text/x-python",
   "name": "python",
   "nbconvert_exporter": "python",
   "pygments_lexer": "ipython3",
   "version": "3.10.12"
  }
 },
 "nbformat": 4,
 "nbformat_minor": 4
}
