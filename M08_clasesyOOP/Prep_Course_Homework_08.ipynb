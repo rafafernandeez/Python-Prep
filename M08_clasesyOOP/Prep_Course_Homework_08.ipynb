{
 "cells": [
  {
   "attachments": {},
   "cell_type": "markdown",
   "metadata": {},
   "source": [
    "## Clases y Programación Orientada a Objetos"
   ]
  },
  {
   "attachments": {},
   "cell_type": "markdown",
   "metadata": {},
   "source": [
    "1) Crear la clase vehículo que contenga los atributos:<br>\n",
    "Color<br>\n",
    "Si es moto, auto, camioneta ó camión<br>\n",
    "Cilindrada del motor"
   ]
  },
  {
   "cell_type": "code",
   "execution_count": 1,
   "metadata": {},
   "outputs": [],
   "source": [
    "class vehiculo ():\n",
    "    def __init__ (self, color, tipo, cilindrada):\n",
    "        self.color = color\n",
    "        self.tipo = tipo \n",
    "        self.cilindrada = cilindrada"
   ]
  },
  {
   "attachments": {},
   "cell_type": "markdown",
   "metadata": {},
   "source": [
    "2) A la clase Vehiculo creada en el punto 1, agregar los siguientes métodos:<br>\n",
    "Acelerar<br>\n",
    "Frenar<br>\n",
    "Doblar<br>"
   ]
  },
  {
   "cell_type": "code",
   "execution_count": 16,
   "metadata": {},
   "outputs": [],
   "source": [
    "class Vehiculo ():\n",
    "    def __init__(self, color, tipo, cilindrada):\n",
    "        self.color = color\n",
    "        self.tipo = tipo\n",
    "        self.cilindrada = cilindrada\n",
    "        self.velocidad = 0\n",
    "        self.direccion = 0\n",
    "\n",
    "    def acelerar (self, aceleracion):\n",
    "        self.velocidad += aceleracion\n",
    "\n",
    "    def frenar (self, desaceleracion):\n",
    "        self.velocidad -= desaceleracion\n",
    "\n",
    "    def doblar (self, angulo):\n",
    "        self.direccion += angulo"
   ]
  },
  {
   "attachments": {},
   "cell_type": "markdown",
   "metadata": {},
   "source": [
    "3) Instanciar 3 objetos de la clase vehículo y ejecutar sus métodos, probar luego el resultado"
   ]
  },
  {
   "cell_type": "code",
   "execution_count": 17,
   "metadata": {},
   "outputs": [],
   "source": [
    "moto1 = Vehiculo(\"rojo\",'moto',150)\n",
    "moto1.acelerar(90)\n",
    "moto1.frenar(30)\n",
    "moto1.doblar(90)\n",
    "\n",
    "camion1 = Vehiculo(\"blanco\",'camion',7000)\n",
    "camion1.acelerar(50)\n",
    "camion1.frenar(30)\n",
    "camion1.doblar(45)\n",
    "\n",
    "auto1 = Vehiculo(\"negro\",'auto',1500)\n",
    "auto1.acelerar(120)\n",
    "auto1.frenar(20)\n",
    "auto1.doblar(-90)"
   ]
  },
  {
   "attachments": {},
   "cell_type": "markdown",
   "metadata": {},
   "source": [
    "4) Agregar a la clase Vehiculo, un método que muestre su estado, es decir, a que velocidad se encuentra y su dirección. Y otro método que muestre color, tipo y cilindrada"
   ]
  },
  {
   "cell_type": "code",
   "execution_count": 18,
   "metadata": {},
   "outputs": [],
   "source": [
    "class Vehiculo ():\n",
    "    def __init__(self, color, tipo, cilindrada):\n",
    "        self.color = color\n",
    "        self.tipo = tipo\n",
    "        self.cilindrada = cilindrada\n",
    "        self.velocidad = 0\n",
    "        self.direccion = 0\n",
    "\n",
    "    def acelerar (self, aceleracion):\n",
    "        self.velocidad += aceleracion\n",
    "\n",
    "    def frenar (self, desaceleracion):\n",
    "        self.velocidad -= desaceleracion\n",
    "\n",
    "    def doblar (self, angulo):\n",
    "        self.direccion += angulo\n",
    "\n",
    "    def caracteristicas (self):\n",
    "        print(\"color: \" + self.color)\n",
    "        print(\"tipo: \" + self.tipo)\n",
    "        print(\"cilindrada: \" + str(self.cilindrada) + '\\n')\n",
    "\n",
    "    def estado (self):\n",
    "        print(\"velocidad: \" + str(self.velocidad))\n",
    "        print(\"direccion: \" + str(self.direccion) + '\\n')"
   ]
  },
  {
   "attachments": {},
   "cell_type": "markdown",
   "metadata": {},
   "source": [
    "5) Crear una clase que permita utilizar las funciones creadas en la práctica del módulo 7<br>\n",
    "Verificar Primo<br>\n",
    "Valor modal<br>\n",
    "Conversión grados<br>\n",
    "Factorial<br>"
   ]
  },
  {
   "cell_type": "code",
   "execution_count": 42,
   "metadata": {},
   "outputs": [],
   "source": [
    "import sys\n",
    "sys.path.append(r\"/home/rafa/Documentos/Henry/Python-Prep/M07_funciones\")\n",
    "from Prep_Course_Homework_07_Resuelto import verifica_primo, valor_modal, conversion_grados, factorial\n",
    "\n",
    "class Funciones_utiles ():\n",
    "    def verifica_primo (self, numero):\n",
    "        return verifica_primo(numero)\n",
    "    \n",
    "    def valor_modal (self, lista):\n",
    "        return valor_modal(lista)\n",
    "    \n",
    "    def conversion_grados (self, grados, origen, destino):\n",
    "        return conversion_grados (grados, origen, destino)\n",
    "    \n",
    "    def factorial (self, numero):\n",
    "        return factorial(numero)"
   ]
  },
  {
   "attachments": {},
   "cell_type": "markdown",
   "metadata": {},
   "source": [
    "6) Probar las funciones incorporadas en la clase del punto 5"
   ]
  },
  {
   "cell_type": "code",
   "execution_count": 43,
   "metadata": {},
   "outputs": [
    {
     "name": "stdout",
     "output_type": "stream",
     "text": [
      "False\n",
      "(1, 4)\n",
      "305.15\n",
      "24\n"
     ]
    }
   ],
   "source": [
    "prueba1 = Funciones_utiles()\n",
    "print(prueba1.verifica_primo(4))\n",
    "print(prueba1.valor_modal([1,4,3,1,1,1,2,5,6]))\n",
    "print(prueba1.conversion_grados(32,'celsius','kelvin'))\n",
    "print(prueba1.factorial(4))"
   ]
  },
  {
   "attachments": {},
   "cell_type": "markdown",
   "metadata": {},
   "source": [
    "7) Es necesario que la clase creada en el punto 5 contenga una lista, sobre la cual se apliquen las funciones incorporadas"
   ]
  },
  {
   "cell_type": "code",
   "execution_count": 53,
   "metadata": {},
   "outputs": [],
   "source": [
    "class Funciones_utiles ():\n",
    "    def __init__(self,lista):\n",
    "        self.lista = lista\n",
    "\n",
    "    def verifica_primo (self):\n",
    "        for elemento in self.lista:\n",
    "            print(elemento, verifica_primo(elemento))\n",
    "    \n",
    "    def valor_modal (self):\n",
    "        print(valor_modal(self.lista))\n",
    "    \n",
    "    def conversion_grados (self, origen, destino):\n",
    "        for elemento in self.lista:\n",
    "            print('Origen:',elemento,' Destino:',conversion_grados (elemento, origen, destino))\n",
    "    \n",
    "    def factorial (self):\n",
    "        for elemento in self.lista:\n",
    "            print(factorial(elemento))"
   ]
  },
  {
   "cell_type": "code",
   "execution_count": 55,
   "metadata": {},
   "outputs": [
    {
     "name": "stdout",
     "output_type": "stream",
     "text": [
      "1 True\n",
      "2 True\n",
      "5 True\n",
      "7 True\n",
      "3 True\n",
      "67 True\n",
      "8 False\n",
      "3 True\n",
      "6 False\n",
      "(3, 2)\n",
      "Origen: 1  Destino: 274.15\n",
      "Origen: 2  Destino: 275.15\n",
      "Origen: 5  Destino: 278.15\n",
      "Origen: 7  Destino: 280.15\n",
      "Origen: 3  Destino: 276.15\n",
      "Origen: 67  Destino: 340.15\n",
      "Origen: 8  Destino: 281.15\n",
      "Origen: 3  Destino: 276.15\n",
      "Origen: 6  Destino: 279.15\n",
      "1\n",
      "2\n",
      "120\n",
      "5040\n",
      "6\n",
      "36471110918188685288249859096605464427167635314049524593701628500267962436943872000000000000000\n",
      "40320\n",
      "6\n",
      "720\n"
     ]
    }
   ],
   "source": [
    "prueba2 = Funciones_utiles([1,2,5,7,3,67,8,3,6])\n",
    "prueba2.verifica_primo()\n",
    "prueba2.valor_modal()\n",
    "prueba2.conversion_grados('celsius','kelvin')\n",
    "prueba2.factorial()"
   ]
  },
  {
   "attachments": {},
   "cell_type": "markdown",
   "metadata": {},
   "source": [
    "8) Crear un archivo .py aparte y ubicar allí la clase generada en el punto anterior. Luego realizar la importación del módulo y probar alguna de sus funciones"
   ]
  },
  {
   "cell_type": "code",
   "execution_count": 56,
   "metadata": {},
   "outputs": [
    {
     "name": "stdout",
     "output_type": "stream",
     "text": [
      "1 True\n",
      "2 True\n",
      "5 True\n",
      "7 True\n",
      "3 True\n",
      "67 True\n",
      "8 False\n",
      "3 True\n",
      "6 False\n",
      "(3, 2)\n",
      "Origen: 1  Destino: 274.15\n",
      "Origen: 2  Destino: 275.15\n",
      "Origen: 5  Destino: 278.15\n",
      "Origen: 7  Destino: 280.15\n",
      "Origen: 3  Destino: 276.15\n",
      "Origen: 67  Destino: 340.15\n",
      "Origen: 8  Destino: 281.15\n",
      "Origen: 3  Destino: 276.15\n",
      "Origen: 6  Destino: 279.15\n",
      "1\n",
      "2\n",
      "120\n",
      "5040\n",
      "6\n",
      "36471110918188685288249859096605464427167635314049524593701628500267962436943872000000000000000\n",
      "40320\n",
      "6\n",
      "720\n"
     ]
    }
   ],
   "source": [
    "import mi_modulo\n",
    "\n",
    "prueba2 = mi_modulo.Funciones_utiles([1,2,5,7,3,67,8,3,6])\n",
    "prueba2.verifica_primo()\n",
    "prueba2.valor_modal()\n",
    "prueba2.conversion_grados('celsius','kelvin')\n",
    "prueba2.factorial()"
   ]
  },
  {
   "cell_type": "code",
   "execution_count": null,
   "metadata": {},
   "outputs": [],
   "source": []
  }
 ],
 "metadata": {
  "interpreter": {
   "hash": "c85384e4cb51c8b72350f3a8712cc8351fdc3955e32a27f9b60c6242ab125f01"
  },
  "kernelspec": {
   "display_name": "Python 3 (ipykernel)",
   "language": "python",
   "name": "python3"
  },
  "language_info": {
   "codemirror_mode": {
    "name": "ipython",
    "version": 3
   },
   "file_extension": ".py",
   "mimetype": "text/x-python",
   "name": "python",
   "nbconvert_exporter": "python",
   "pygments_lexer": "ipython3",
   "version": "3.10.12"
  }
 },
 "nbformat": 4,
 "nbformat_minor": 4
}
